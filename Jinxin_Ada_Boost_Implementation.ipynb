{
 "cells": [
  {
   "cell_type": "code",
   "execution_count": 1,
   "metadata": {
    "collapsed": true
   },
   "outputs": [],
   "source": [
    "import numpy as np\n",
    "import pandas as pd\n",
    "import csv\n",
    "from sklearn.tree import DecisionTreeClassifier"
   ]
  },
  {
   "cell_type": "markdown",
   "metadata": {},
   "source": [
    "The following functions complete the process of ada boosting including fitting the data, making predictions and writing the predictions to a text file"
   ]
  },
  {
   "cell_type": "code",
   "execution_count": 2,
   "metadata": {
    "collapsed": true
   },
   "outputs": [],
   "source": [
    "def adaboost(X, y, num_iter):\n",
    "    \"\"\"Given an numpy matrix X, a array y and num_iter return trees and weights \n",
    "   \n",
    "    Input: X, y, num_iter\n",
    "    Outputs: array of trees from DecisionTreeClassifier\n",
    "             trees_weights array of floats\n",
    "    Assumes y is in {-1, 1}^n\n",
    "    \"\"\"\n",
    "    trees = []\n",
    "    trees_weights = []\n",
    "    # your code here\n",
    "    y_len = len(y)\n",
    "    weights = [1.0 / y_len] * y_len\n",
    "\n",
    "    for i in range(num_iter):\n",
    "        d_tree = DecisionTreeClassifier(max_depth=1)\n",
    "        d_tree.fit(X, y, sample_weight=weights)\n",
    "        trees.append(d_tree)\n",
    "        \n",
    "        train_pred = d_tree.predict(X)\n",
    "        diff = abs(np.array(y) - np.array(train_pred))\n",
    "        index = np.where(diff != 0)[0]\n",
    "\n",
    "        e = sum(weights[idx] for idx in index)\n",
    "        error = e / sum(weights)\n",
    "        try:\n",
    "            alpha = np.log((1 - error) / error)\n",
    "        except ZeroDivisionError:\n",
    "            alpha = 1.0\n",
    "\n",
    "        trees_weights.append(alpha)\n",
    "\n",
    "        weights = [weights[i] * np.exp(alpha) if train_pred[i] != y[i] \n",
    "                   else weights[i] for i in range(len(weights))]\n",
    "        \n",
    "    return trees, trees_weights\n",
    "\n",
    "\n",
    "def adaboost_predict(X, trees, trees_weights):\n",
    "    \"\"\"Given X, trees and weights predict Y\n",
    "\n",
    "    assume Y in {-1, 1}^n\n",
    "    \"\"\"\n",
    "    # your code here\n",
    "    Yhat = np.array(0) * len(X)\n",
    "\n",
    "    for i in range(len(trees)):\n",
    "        pred = trees[i].predict(X)\n",
    "        weighted_pred = np.array(pred) * trees_weights[i]\n",
    "        Yhat += weighted_pred\n",
    "    Yhat = np.sign(Yhat)\n",
    "    \n",
    "    return Yhat\n",
    "\n",
    "\n",
    "def parse_spambase_data(filename):\n",
    "    \"\"\" Given a filename return X and Y numpy arrays\n",
    "\n",
    "    X is of size number of rows x num_features\n",
    "    Y is an array of size the number of rows\n",
    "    Y is the last element of each row.\n",
    "    \"\"\"\n",
    "    # your code here\n",
    "    data = pd.read_csv(filename, header=None)\n",
    "    X = data.iloc[:, :-1]\n",
    "    Y = data.iloc[:, -1]\n",
    "\n",
    "    return X, Y\n",
    "\n",
    "\n",
    "def new_label(Y):\n",
    "    \"\"\" Transforms a vector od 0s and 1s in -1s and 1s.\n",
    "    \"\"\"\n",
    "    return [-1. if y == 0. else 1. for y in Y]\n",
    "\n",
    "\n",
    "def old_label(Y):\n",
    "    return [0. if y == -1. else 1. for y in Y]\n",
    "\n",
    "\n",
    "def accuracy(y, pred):\n",
    "    return np.sum(y == pred) / float(len(y))\n",
    "\n",
    "\n",
    "def write_predictions(filename, x_test, y_test, prediction):\n",
    "    xtest = pd.DataFrame(x_test)\n",
    "\n",
    "    ytest = old_label(y_test)\n",
    "    ytest = pd.DataFrame(ytest)\n",
    "\n",
    "    pred = old_label(prediction)\n",
    "    pred = pd.DataFrame(pred)\n",
    "\n",
    "    with open(filename, \"wb\") as csvfile:\n",
    "        writer = csv.writer(csvfile)\n",
    "        for i in range(len(prediction)):\n",
    "            row = list(xtest.iloc[i, :])\n",
    "            row.extend(list(ytest.iloc[i, :]))\n",
    "            row.extend(list(pred.iloc[i, :]))\n",
    "            writer.writerow(row)"
   ]
  },
  {
   "cell_type": "markdown",
   "metadata": {},
   "source": [
    "Test the implementation using spam data"
   ]
  },
  {
   "cell_type": "code",
   "execution_count": 3,
   "metadata": {
    "collapsed": true
   },
   "outputs": [],
   "source": [
    "X, Y = parse_spambase_data('spambase.train')\n",
    "X_test, Y_test = parse_spambase_data('spambase.test')\n",
    "Y = new_label(Y)\n",
    "Y_test = new_label(Y_test)"
   ]
  },
  {
   "cell_type": "code",
   "execution_count": 4,
   "metadata": {},
   "outputs": [
    {
     "name": "stdout",
     "output_type": "stream",
     "text": [
      "0.919\n",
      "0.932\n",
      "0.944\n",
      "0.947\n",
      "0.95\n",
      "0.951\n",
      "0.949\n",
      "0.95\n",
      "0.953\n",
      "0.954\n",
      "0.954\n",
      "0.954\n"
     ]
    }
   ],
   "source": [
    "num_iter = [10, 20, 50, 100, 150, 200, 300, 400, 500, 600, 800, 1000]\n",
    "train_error = []\n",
    "test_error = []\n",
    "for num in num_iter:\n",
    "    trees, alphas = adaboost(X, Y, num)\n",
    "    Yhat_test = adaboost_predict(X_test, trees, alphas)\n",
    "    Yhat = adaboost_predict(X, trees, alphas)\n",
    "\n",
    "    ## here print accuracy and write predictions to a file\n",
    "    acc_test = accuracy(Y_test, Yhat_test)\n",
    "    acc = accuracy(Y, Yhat)\n",
    "    \n",
    "    print acc_test\n",
    "    train_error.append(1-acc)\n",
    "    test_error.append(1-acc_test)"
   ]
  }
 ],
 "metadata": {
  "anaconda-cloud": {},
  "kernelspec": {
   "display_name": "Python 2",
   "language": "python",
   "name": "python2"
  },
  "language_info": {
   "codemirror_mode": {
    "name": "ipython",
    "version": 2
   },
   "file_extension": ".py",
   "mimetype": "text/x-python",
   "name": "python",
   "nbconvert_exporter": "python",
   "pygments_lexer": "ipython2",
   "version": "2.7.13"
  }
 },
 "nbformat": 4,
 "nbformat_minor": 1
}
